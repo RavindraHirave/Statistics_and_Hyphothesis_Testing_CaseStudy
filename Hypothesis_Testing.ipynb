{
 "cells": [
  {
   "cell_type": "markdown",
   "id": "edd4a36b-96ba-4a0a-86e4-415bdb2b6be7",
   "metadata": {},
   "source": [
    "## Business Problem 1"
   ]
  },
  {
   "cell_type": "markdown",
   "id": "bf9f416c-eff4-4d6d-aa3c-f3d4baf2cf93",
   "metadata": {},
   "source": [
    "a. Intrest rate is varied for different loan amounts (Less intrest charged for high loan \n",
    "amounts)"
   ]
  },
  {
   "cell_type": "code",
   "execution_count": 1,
   "id": "34ab899a-5421-40fc-970a-d366f5f14ae2",
   "metadata": {},
   "outputs": [],
   "source": [
    "import pandas as pd\n",
    "import statsmodels.api as sm\n",
    "import matplotlib.pyplot as plt\n",
    "import datetime as dt\n",
    "import seaborn as sns"
   ]
  },
  {
   "cell_type": "code",
   "execution_count": 2,
   "id": "923f48b6-9c75-4cf5-affe-d4202d3012b2",
   "metadata": {},
   "outputs": [
    {
     "name": "stdout",
     "output_type": "stream",
     "text": [
      "(2500, 14)\n",
      "<class 'pandas.core.frame.DataFrame'>\n",
      "RangeIndex: 2500 entries, 0 to 2499\n",
      "Data columns (total 14 columns):\n",
      " #   Column                          Non-Null Count  Dtype  \n",
      "---  ------                          --------------  -----  \n",
      " 0   Amount.Requested                2499 non-null   float64\n",
      " 1   Amount.Funded.By.Investors      2499 non-null   float64\n",
      " 2   Interest.Rate                   2498 non-null   object \n",
      " 3   Loan.Length                     2500 non-null   object \n",
      " 4   Loan.Purpose                    2500 non-null   object \n",
      " 5   Debt.To.Income.Ratio            2499 non-null   object \n",
      " 6   State                           2500 non-null   object \n",
      " 7   Home.Ownership                  2499 non-null   object \n",
      " 8   Monthly.Income                  2499 non-null   float64\n",
      " 9   FICO.Range                      2498 non-null   object \n",
      " 10  Open.CREDIT.Lines               2497 non-null   float64\n",
      " 11  Revolving.CREDIT.Balance        2497 non-null   float64\n",
      " 12  Inquiries.in.the.Last.6.Months  2497 non-null   float64\n",
      " 13  Employment.Length               2423 non-null   object \n",
      "dtypes: float64(6), object(8)\n",
      "memory usage: 273.6+ KB\n",
      "None\n",
      "Amount.Requested                  float64\n",
      "Amount.Funded.By.Investors        float64\n",
      "Interest.Rate                      object\n",
      "Loan.Length                        object\n",
      "Loan.Purpose                       object\n",
      "Debt.To.Income.Ratio               object\n",
      "State                              object\n",
      "Home.Ownership                     object\n",
      "Monthly.Income                    float64\n",
      "FICO.Range                         object\n",
      "Open.CREDIT.Lines                 float64\n",
      "Revolving.CREDIT.Balance          float64\n",
      "Inquiries.in.the.Last.6.Months    float64\n",
      "Employment.Length                  object\n",
      "dtype: object\n"
     ]
    }
   ],
   "source": [
    "loans_data = pd.read_csv('LoansData.csv')\n",
    "loans_data\n",
    "print(loans_data.shape)\n",
    "print(loans_data.info())\n",
    "print(loans_data.dtypes)\n"
   ]
  },
  {
   "cell_type": "code",
   "execution_count": 8,
   "id": "1e7ce63c-b56e-4c98-a51b-724de3f975f3",
   "metadata": {},
   "outputs": [
    {
     "name": "stdout",
     "output_type": "stream",
     "text": [
      "                            OLS Regression Results                            \n",
      "==============================================================================\n",
      "Dep. Variable:          Interest.Rate   R-squared:                       0.111\n",
      "Model:                            OLS   Adj. R-squared:                  0.110\n",
      "Method:                 Least Squares   F-statistic:                     310.2\n",
      "Date:                Thu, 20 Jun 2024   Prob (F-statistic):           1.58e-65\n",
      "Time:                        22:20:05   Log-Likelihood:                -6969.0\n",
      "No. Observations:                2498   AIC:                         1.394e+04\n",
      "Df Residuals:                    2496   BIC:                         1.395e+04\n",
      "Df Model:                           1                                         \n",
      "Covariance Type:            nonrobust                                         \n",
      "====================================================================================\n",
      "                       coef    std err          t      P>|t|      [0.025      0.975]\n",
      "------------------------------------------------------------------------------------\n",
      "const               10.8581      0.148     73.331      0.000      10.568      11.148\n",
      "Amount.Requested     0.0002   1.01e-05     17.611      0.000       0.000       0.000\n",
      "==============================================================================\n",
      "Omnibus:                       71.692   Durbin-Watson:                   1.973\n",
      "Prob(Omnibus):                  0.000   Jarque-Bera (JB):               38.106\n",
      "Skew:                           0.106   Prob(JB):                     5.31e-09\n",
      "Kurtosis:                       2.434   Cond. No.                     2.75e+04\n",
      "==============================================================================\n",
      "\n",
      "Notes:\n",
      "[1] Standard Errors assume that the covariance matrix of the errors is correctly specified.\n",
      "[2] The condition number is large, 2.75e+04. This might indicate that there are\n",
      "strong multicollinearity or other numerical problems.\n",
      "Conclusion :\n",
      "Intrest rate is varied for different loan amounts (Less intrest charged for high loan amounts)\n"
     ]
    }
   ],
   "source": [
    "import pandas as pd\n",
    "import statsmodels.api as sm\n",
    "loans_data = pd.read_csv('LoansData.csv')\n",
    "loans_data['Interest.Rate'] = loans_data['Interest.Rate'].str.replace('%', '').astype(float)\n",
    "\n",
    "cleaned_loans_data = loans_data.dropna(subset=['Amount.Requested', 'Interest.Rate'])\n",
    "X = cleaned_loans_data['Amount.Requested']\n",
    "y = cleaned_loans_data['Interest.Rate']\n",
    "\n",
    "X = sm.add_constant(X)\n",
    "model = sm.OLS(y, X).fit()\n",
    "print(model.summary())\n",
    "print(\"Conclusion :\")\n",
    "print(\"Intrest rate is varied for different loan amounts (Less intrest charged for high loan amounts)\")"
   ]
  },
  {
   "cell_type": "code",
   "execution_count": null,
   "id": "3bf63ae7-ac50-4a74-b917-fb8f3b497986",
   "metadata": {},
   "outputs": [],
   "source": []
  },
  {
   "cell_type": "markdown",
   "id": "aa43b0f7-533f-4f16-b19c-4c0cdd3d1ea9",
   "metadata": {},
   "source": [
    "b. Loan length is directly effecting intrest rate."
   ]
  },
  {
   "cell_type": "code",
   "execution_count": 9,
   "id": "59b8789f-4c9e-4fc0-9593-d6dd27814a8b",
   "metadata": {},
   "outputs": [
    {
     "name": "stdout",
     "output_type": "stream",
     "text": [
      "-23.404324256626744\n",
      "1.0952664487978044e-109\n",
      "Conclusion :\n",
      "Loan length is directly effecting intrest rate.\n"
     ]
    }
   ],
   "source": [
    "from scipy.stats import ttest_ind\n",
    "loans_data = pd.read_csv('LoansData.csv')\n",
    "loans_data['Interest.Rate'] = loans_data['Interest.Rate'].str.replace('%', '').astype(float)\n",
    "cleaned_loans_data = loans_data.dropna(subset=['Loan.Length', 'Interest.Rate'])\n",
    "\n",
    "interest_36_months = cleaned_loans_data[cleaned_loans_data['Loan.Length'] == '36 months']['Interest.Rate']\n",
    "interest_60_months = cleaned_loans_data[cleaned_loans_data['Loan.Length'] == '60 months']['Interest.Rate']\n",
    "\n",
    "t_stat, p_value = ttest_ind(interest_36_months, interest_60_months)\n",
    "\n",
    "print(t_stat)\n",
    "print(p_value)\n",
    "print(\"Conclusion :\")\n",
    "print(\"Loan length is directly effecting intrest rate.\")"
   ]
  },
  {
   "cell_type": "code",
   "execution_count": null,
   "id": "6bc98819-6a76-4c30-9c95-a3fabb14265d",
   "metadata": {},
   "outputs": [],
   "source": []
  },
  {
   "cell_type": "markdown",
   "id": "3bc0fcc3-d57c-4ddb-ab17-7f777310f824",
   "metadata": {},
   "source": [
    "c. Inrest rate varies for different purpose of loans"
   ]
  },
  {
   "cell_type": "code",
   "execution_count": 11,
   "id": "5797c316-709f-4c94-a0bd-e9c0f3a8dbd2",
   "metadata": {},
   "outputs": [
    {
     "data": {
      "text/plain": [
       "SignificanceResult(statistic=nan, pvalue=nan)"
      ]
     },
     "execution_count": 11,
     "metadata": {},
     "output_type": "execute_result"
    }
   ],
   "source": [
    "from scipy import stats\n",
    "stats.spearmanr(loans_data[\"Interest.Rate\"],loans_data[\"Loan.Purpose\"])"
   ]
  },
  {
   "cell_type": "code",
   "execution_count": 13,
   "id": "77337d9d-9d0c-4e88-bb00-1e45bec219a2",
   "metadata": {},
   "outputs": [
    {
     "name": "stdout",
     "output_type": "stream",
     "text": [
      "7.481404351302255\n",
      "1.1686298123677374e-14\n",
      "Conclusion :\n",
      "Interest rate varies for different purpose of loans\n"
     ]
    }
   ],
   "source": [
    "from scipy.stats import f_oneway\n",
    "loans_data = pd.read_csv('LoansData.csv')\n",
    "loans_data['Interest.Rate'] = loans_data['Interest.Rate'].str.replace('%', '').astype(float)\n",
    "cleaned_loans_data = loans_data.dropna(subset=['Loan.Purpose', 'Interest.Rate'])\n",
    "\n",
    "grouped_data = [group['Interest.Rate'].values for name, group in cleaned_loans_data.groupby('Loan.Purpose')]\n",
    "\n",
    "f_stat, p_value = f_oneway(*grouped_data)\n",
    "\n",
    "print(f_stat)\n",
    "print(p_value)\n",
    "print(\"Conclusion :\")\n",
    "print(\"Interest rate varies for different purpose of loans\")\n"
   ]
  },
  {
   "cell_type": "code",
   "execution_count": null,
   "id": "2d94e7dc-c318-499a-a16b-9e98f612eba7",
   "metadata": {},
   "outputs": [],
   "source": []
  },
  {
   "cell_type": "markdown",
   "id": "54777998-792a-4360-af0a-273d09038972",
   "metadata": {},
   "source": [
    "d. There is relationship between FICO scores and Home Ownership. It means that, People \n",
    "with owning home will have high FICO scores."
   ]
  },
  {
   "cell_type": "code",
   "execution_count": 14,
   "id": "c37272cf-070d-4809-95a0-a54d24224012",
   "metadata": {},
   "outputs": [
    {
     "data": {
      "text/html": [
       "<div>\n",
       "<style scoped>\n",
       "    .dataframe tbody tr th:only-of-type {\n",
       "        vertical-align: middle;\n",
       "    }\n",
       "\n",
       "    .dataframe tbody tr th {\n",
       "        vertical-align: top;\n",
       "    }\n",
       "\n",
       "    .dataframe thead th {\n",
       "        text-align: right;\n",
       "    }\n",
       "</style>\n",
       "<table border=\"1\" class=\"dataframe\">\n",
       "  <thead>\n",
       "    <tr style=\"text-align: right;\">\n",
       "      <th>FICO.Range</th>\n",
       "      <th>640-644</th>\n",
       "      <th>645-649</th>\n",
       "      <th>650-654</th>\n",
       "      <th>655-659</th>\n",
       "      <th>660-664</th>\n",
       "      <th>665-669</th>\n",
       "      <th>670-674</th>\n",
       "      <th>675-679</th>\n",
       "      <th>680-684</th>\n",
       "      <th>685-689</th>\n",
       "      <th>...</th>\n",
       "      <th>780-784</th>\n",
       "      <th>785-789</th>\n",
       "      <th>790-794</th>\n",
       "      <th>795-799</th>\n",
       "      <th>800-804</th>\n",
       "      <th>805-809</th>\n",
       "      <th>810-814</th>\n",
       "      <th>815-819</th>\n",
       "      <th>820-824</th>\n",
       "      <th>830-834</th>\n",
       "    </tr>\n",
       "    <tr>\n",
       "      <th>Home.Ownership</th>\n",
       "      <th></th>\n",
       "      <th></th>\n",
       "      <th></th>\n",
       "      <th></th>\n",
       "      <th></th>\n",
       "      <th></th>\n",
       "      <th></th>\n",
       "      <th></th>\n",
       "      <th></th>\n",
       "      <th></th>\n",
       "      <th></th>\n",
       "      <th></th>\n",
       "      <th></th>\n",
       "      <th></th>\n",
       "      <th></th>\n",
       "      <th></th>\n",
       "      <th></th>\n",
       "      <th></th>\n",
       "      <th></th>\n",
       "      <th></th>\n",
       "      <th></th>\n",
       "    </tr>\n",
       "  </thead>\n",
       "  <tbody>\n",
       "    <tr>\n",
       "      <th>MORTGAGE</th>\n",
       "      <td>0</td>\n",
       "      <td>1</td>\n",
       "      <td>1</td>\n",
       "      <td>0</td>\n",
       "      <td>41</td>\n",
       "      <td>52</td>\n",
       "      <td>67</td>\n",
       "      <td>79</td>\n",
       "      <td>55</td>\n",
       "      <td>61</td>\n",
       "      <td>...</td>\n",
       "      <td>21</td>\n",
       "      <td>12</td>\n",
       "      <td>15</td>\n",
       "      <td>7</td>\n",
       "      <td>7</td>\n",
       "      <td>6</td>\n",
       "      <td>5</td>\n",
       "      <td>6</td>\n",
       "      <td>0</td>\n",
       "      <td>1</td>\n",
       "    </tr>\n",
       "    <tr>\n",
       "      <th>NONE</th>\n",
       "      <td>0</td>\n",
       "      <td>0</td>\n",
       "      <td>0</td>\n",
       "      <td>0</td>\n",
       "      <td>0</td>\n",
       "      <td>0</td>\n",
       "      <td>0</td>\n",
       "      <td>0</td>\n",
       "      <td>0</td>\n",
       "      <td>0</td>\n",
       "      <td>...</td>\n",
       "      <td>0</td>\n",
       "      <td>0</td>\n",
       "      <td>0</td>\n",
       "      <td>0</td>\n",
       "      <td>1</td>\n",
       "      <td>0</td>\n",
       "      <td>0</td>\n",
       "      <td>0</td>\n",
       "      <td>0</td>\n",
       "      <td>0</td>\n",
       "    </tr>\n",
       "    <tr>\n",
       "      <th>OTHER</th>\n",
       "      <td>0</td>\n",
       "      <td>0</td>\n",
       "      <td>0</td>\n",
       "      <td>1</td>\n",
       "      <td>0</td>\n",
       "      <td>0</td>\n",
       "      <td>1</td>\n",
       "      <td>1</td>\n",
       "      <td>2</td>\n",
       "      <td>0</td>\n",
       "      <td>...</td>\n",
       "      <td>0</td>\n",
       "      <td>0</td>\n",
       "      <td>0</td>\n",
       "      <td>0</td>\n",
       "      <td>0</td>\n",
       "      <td>0</td>\n",
       "      <td>0</td>\n",
       "      <td>0</td>\n",
       "      <td>0</td>\n",
       "      <td>0</td>\n",
       "    </tr>\n",
       "    <tr>\n",
       "      <th>OWN</th>\n",
       "      <td>1</td>\n",
       "      <td>0</td>\n",
       "      <td>0</td>\n",
       "      <td>0</td>\n",
       "      <td>17</td>\n",
       "      <td>18</td>\n",
       "      <td>13</td>\n",
       "      <td>11</td>\n",
       "      <td>9</td>\n",
       "      <td>10</td>\n",
       "      <td>...</td>\n",
       "      <td>3</td>\n",
       "      <td>2</td>\n",
       "      <td>1</td>\n",
       "      <td>1</td>\n",
       "      <td>3</td>\n",
       "      <td>2</td>\n",
       "      <td>1</td>\n",
       "      <td>0</td>\n",
       "      <td>1</td>\n",
       "      <td>0</td>\n",
       "    </tr>\n",
       "    <tr>\n",
       "      <th>RENT</th>\n",
       "      <td>4</td>\n",
       "      <td>2</td>\n",
       "      <td>0</td>\n",
       "      <td>3</td>\n",
       "      <td>67</td>\n",
       "      <td>75</td>\n",
       "      <td>90</td>\n",
       "      <td>75</td>\n",
       "      <td>91</td>\n",
       "      <td>65</td>\n",
       "      <td>...</td>\n",
       "      <td>4</td>\n",
       "      <td>5</td>\n",
       "      <td>4</td>\n",
       "      <td>5</td>\n",
       "      <td>2</td>\n",
       "      <td>3</td>\n",
       "      <td>2</td>\n",
       "      <td>0</td>\n",
       "      <td>0</td>\n",
       "      <td>0</td>\n",
       "    </tr>\n",
       "  </tbody>\n",
       "</table>\n",
       "<p>5 rows × 38 columns</p>\n",
       "</div>"
      ],
      "text/plain": [
       "FICO.Range      640-644  645-649  650-654  655-659  660-664  665-669  670-674  \\\n",
       "Home.Ownership                                                                  \n",
       "MORTGAGE              0        1        1        0       41       52       67   \n",
       "NONE                  0        0        0        0        0        0        0   \n",
       "OTHER                 0        0        0        1        0        0        1   \n",
       "OWN                   1        0        0        0       17       18       13   \n",
       "RENT                  4        2        0        3       67       75       90   \n",
       "\n",
       "FICO.Range      675-679  680-684  685-689  ...  780-784  785-789  790-794  \\\n",
       "Home.Ownership                             ...                              \n",
       "MORTGAGE             79       55       61  ...       21       12       15   \n",
       "NONE                  0        0        0  ...        0        0        0   \n",
       "OTHER                 1        2        0  ...        0        0        0   \n",
       "OWN                  11        9       10  ...        3        2        1   \n",
       "RENT                 75       91       65  ...        4        5        4   \n",
       "\n",
       "FICO.Range      795-799  800-804  805-809  810-814  815-819  820-824  830-834  \n",
       "Home.Ownership                                                                 \n",
       "MORTGAGE              7        7        6        5        6        0        1  \n",
       "NONE                  0        1        0        0        0        0        0  \n",
       "OTHER                 0        0        0        0        0        0        0  \n",
       "OWN                   1        3        2        1        0        1        0  \n",
       "RENT                  5        2        3        2        0        0        0  \n",
       "\n",
       "[5 rows x 38 columns]"
      ]
     },
     "execution_count": 14,
     "metadata": {},
     "output_type": "execute_result"
    }
   ],
   "source": [
    "relation_FICO_and_homeownership= pd.crosstab(loans_data[\"Home.Ownership\"],loans_data[\"FICO.Range\"])\n",
    "relation_FICO_and_homeownership"
   ]
  },
  {
   "cell_type": "code",
   "execution_count": 15,
   "id": "992e45c9-7036-439c-b65c-daf2d06dc381",
   "metadata": {},
   "outputs": [
    {
     "data": {
      "text/plain": [
       "Chi2ContingencyResult(statistic=473.0524636834602, pvalue=1.202159201024428e-35, dof=148, expected_freq=array([[2.29475370e+00, 1.37685222e+00, 4.58950741e-01, 1.83580296e+00,\n",
       "        5.73688426e+01, 6.65478574e+01, 7.84805767e+01, 7.61858230e+01,\n",
       "        7.20552663e+01, 6.24173008e+01, 6.42531037e+01, 7.02194634e+01,\n",
       "        6.01225471e+01, 6.14993993e+01, 5.09435322e+01, 4.26824189e+01,\n",
       "        5.23203845e+01, 4.31413696e+01, 4.31413696e+01, 2.98317982e+01,\n",
       "        2.43243893e+01, 2.47833400e+01, 2.79959952e+01, 2.11117341e+01,\n",
       "        2.11117341e+01, 1.65222267e+01, 7.80216260e+00, 1.00969163e+01,\n",
       "        1.28506207e+01, 8.72006408e+00, 9.17901482e+00, 5.96635963e+00,\n",
       "        5.96635963e+00, 5.04845815e+00, 3.67160593e+00, 2.75370445e+00,\n",
       "        4.58950741e-01, 4.58950741e-01],\n",
       "       [2.00240288e-03, 1.20144173e-03, 4.00480577e-04, 1.60192231e-03,\n",
       "        5.00600721e-02, 5.80696836e-02, 6.84821786e-02, 6.64797757e-02,\n",
       "        6.28754505e-02, 5.44653584e-02, 5.60672807e-02, 6.12735282e-02,\n",
       "        5.24629555e-02, 5.36643973e-02, 4.44533440e-02, 3.72446936e-02,\n",
       "        4.56547857e-02, 3.76451742e-02, 3.76451742e-02, 2.60312375e-02,\n",
       "        2.12254706e-02, 2.16259511e-02, 2.44293152e-02, 1.84221065e-02,\n",
       "        1.84221065e-02, 1.44173008e-02, 6.80816980e-03, 8.81057269e-03,\n",
       "        1.12134561e-02, 7.60913096e-03, 8.00961153e-03, 5.20624750e-03,\n",
       "        5.20624750e-03, 4.40528634e-03, 3.20384461e-03, 2.40288346e-03,\n",
       "        4.00480577e-04, 4.00480577e-04],\n",
       "       [1.00120144e-02, 6.00720865e-03, 2.00240288e-03, 8.00961153e-03,\n",
       "        2.50300360e-01, 2.90348418e-01, 3.42410893e-01, 3.32398879e-01,\n",
       "        3.14377253e-01, 2.72326792e-01, 2.80336404e-01, 3.06367641e-01,\n",
       "        2.62314778e-01, 2.68321986e-01, 2.22266720e-01, 1.86223468e-01,\n",
       "        2.28273929e-01, 1.88225871e-01, 1.88225871e-01, 1.30156187e-01,\n",
       "        1.06127353e-01, 1.08129756e-01, 1.22146576e-01, 9.21105326e-02,\n",
       "        9.21105326e-02, 7.20865038e-02, 3.40408490e-02, 4.40528634e-02,\n",
       "        5.60672807e-02, 3.80456548e-02, 4.00480577e-02, 2.60312375e-02,\n",
       "        2.60312375e-02, 2.20264317e-02, 1.60192231e-02, 1.20144173e-02,\n",
       "        2.00240288e-03, 2.00240288e-03],\n",
       "       [4.00480577e-01, 2.40288346e-01, 8.00961153e-02, 3.20384461e-01,\n",
       "        1.00120144e+01, 1.16139367e+01, 1.36964357e+01, 1.32959551e+01,\n",
       "        1.25750901e+01, 1.08930717e+01, 1.12134561e+01, 1.22547056e+01,\n",
       "        1.04925911e+01, 1.07328795e+01, 8.89066880e+00, 7.44893873e+00,\n",
       "        9.13095715e+00, 7.52903484e+00, 7.52903484e+00, 5.20624750e+00,\n",
       "        4.24509411e+00, 4.32519023e+00, 4.88586304e+00, 3.68442131e+00,\n",
       "        3.68442131e+00, 2.88346015e+00, 1.36163396e+00, 1.76211454e+00,\n",
       "        2.24269123e+00, 1.52182619e+00, 1.60192231e+00, 1.04124950e+00,\n",
       "        1.04124950e+00, 8.81057269e-01, 6.40768923e-01, 4.80576692e-01,\n",
       "        8.00961153e-02, 8.00961153e-02],\n",
       "       [2.29275130e+00, 1.37565078e+00, 4.58550260e-01, 1.83420104e+00,\n",
       "        5.73187825e+01, 6.64897877e+01, 7.84120945e+01, 7.61193432e+01,\n",
       "        7.19923909e+01, 6.23628354e+01, 6.41970364e+01, 7.01581898e+01,\n",
       "        6.00700841e+01, 6.14457349e+01, 5.08990789e+01, 4.26451742e+01,\n",
       "        5.22747297e+01, 4.31037245e+01, 4.31037245e+01, 2.98057669e+01,\n",
       "        2.43031638e+01, 2.47617141e+01, 2.79715659e+01, 2.10933120e+01,\n",
       "        2.10933120e+01, 1.65078094e+01, 7.79535443e+00, 1.00881057e+01,\n",
       "        1.28394073e+01, 8.71245495e+00, 9.17100521e+00, 5.96115338e+00,\n",
       "        5.96115338e+00, 5.04405286e+00, 3.66840208e+00, 2.75130156e+00,\n",
       "        4.58550260e-01, 4.58550260e-01]]))"
      ]
     },
     "execution_count": 15,
     "metadata": {},
     "output_type": "execute_result"
    }
   ],
   "source": [
    "stats.chi2_contingency(relation_FICO_and_homeownership)"
   ]
  },
  {
   "cell_type": "markdown",
   "id": "8faccea9-f7c3-49f0-94a6-5515f2e719eb",
   "metadata": {},
   "source": [
    "## Business Problem 2"
   ]
  },
  {
   "cell_type": "markdown",
   "id": "628fa09c-37c7-4115-b40a-d9e963436a66",
   "metadata": {},
   "source": [
    "BUSINESS PROBLEM: We would like to assess if there is any difference in the average \n",
    "price quotes provided by Mary and Barry"
   ]
  },
  {
   "cell_type": "code",
   "execution_count": 16,
   "id": "c3720216-50b0-40a4-9d2b-d5300f8bf421",
   "metadata": {},
   "outputs": [],
   "source": [
    "price_data=pd.read_csv('Price_Quotes.csv')"
   ]
  },
  {
   "cell_type": "code",
   "execution_count": 17,
   "id": "35840003-a525-4f76-bc5e-d4fbf909ef27",
   "metadata": {},
   "outputs": [
    {
     "data": {
      "text/html": [
       "<div>\n",
       "<style scoped>\n",
       "    .dataframe tbody tr th:only-of-type {\n",
       "        vertical-align: middle;\n",
       "    }\n",
       "\n",
       "    .dataframe tbody tr th {\n",
       "        vertical-align: top;\n",
       "    }\n",
       "\n",
       "    .dataframe thead th {\n",
       "        text-align: right;\n",
       "    }\n",
       "</style>\n",
       "<table border=\"1\" class=\"dataframe\">\n",
       "  <thead>\n",
       "    <tr style=\"text-align: right;\">\n",
       "      <th></th>\n",
       "      <th>Order_Number</th>\n",
       "      <th>Barry_Price</th>\n",
       "      <th>Mary_Price</th>\n",
       "    </tr>\n",
       "  </thead>\n",
       "  <tbody>\n",
       "    <tr>\n",
       "      <th>count</th>\n",
       "      <td>12.000000</td>\n",
       "      <td>12.000000</td>\n",
       "      <td>12.000000</td>\n",
       "    </tr>\n",
       "    <tr>\n",
       "      <th>mean</th>\n",
       "      <td>6.500000</td>\n",
       "      <td>124.333333</td>\n",
       "      <td>114.750000</td>\n",
       "    </tr>\n",
       "    <tr>\n",
       "      <th>std</th>\n",
       "      <td>3.605551</td>\n",
       "      <td>20.698412</td>\n",
       "      <td>11.054616</td>\n",
       "    </tr>\n",
       "    <tr>\n",
       "      <th>min</th>\n",
       "      <td>1.000000</td>\n",
       "      <td>94.000000</td>\n",
       "      <td>97.000000</td>\n",
       "    </tr>\n",
       "    <tr>\n",
       "      <th>25%</th>\n",
       "      <td>3.750000</td>\n",
       "      <td>106.750000</td>\n",
       "      <td>107.000000</td>\n",
       "    </tr>\n",
       "    <tr>\n",
       "      <th>50%</th>\n",
       "      <td>6.500000</td>\n",
       "      <td>131.000000</td>\n",
       "      <td>114.000000</td>\n",
       "    </tr>\n",
       "    <tr>\n",
       "      <th>75%</th>\n",
       "      <td>9.250000</td>\n",
       "      <td>140.500000</td>\n",
       "      <td>121.000000</td>\n",
       "    </tr>\n",
       "    <tr>\n",
       "      <th>max</th>\n",
       "      <td>12.000000</td>\n",
       "      <td>152.000000</td>\n",
       "      <td>133.000000</td>\n",
       "    </tr>\n",
       "  </tbody>\n",
       "</table>\n",
       "</div>"
      ],
      "text/plain": [
       "       Order_Number  Barry_Price  Mary_Price\n",
       "count     12.000000    12.000000   12.000000\n",
       "mean       6.500000   124.333333  114.750000\n",
       "std        3.605551    20.698412   11.054616\n",
       "min        1.000000    94.000000   97.000000\n",
       "25%        3.750000   106.750000  107.000000\n",
       "50%        6.500000   131.000000  114.000000\n",
       "75%        9.250000   140.500000  121.000000\n",
       "max       12.000000   152.000000  133.000000"
      ]
     },
     "execution_count": 17,
     "metadata": {},
     "output_type": "execute_result"
    }
   ],
   "source": [
    "price_data.describe()"
   ]
  },
  {
   "cell_type": "code",
   "execution_count": 18,
   "id": "b76666c3-af27-4278-b472-3129755c7bb2",
   "metadata": {},
   "outputs": [
    {
     "name": "stdout",
     "output_type": "stream",
     "text": [
      "-2.5213765108923494\n",
      "0.02840588045242053\n",
      "Conclusion: \n",
      "Yes,there is difference between the average price quotes provided by Mary and Barry\n"
     ]
    }
   ],
   "source": [
    "f_stat, p_value =stats.ttest_rel(price_data[\"Mary_Price\"],price_data[\"Barry_Price\"])\n",
    "print(f_stat)\n",
    "print(p_value)\n",
    "print(\"Conclusion: \")\n",
    "print(\"Yes,there is difference between the average price quotes provided by Mary and Barry\")"
   ]
  },
  {
   "cell_type": "code",
   "execution_count": null,
   "id": "f9f70377-5c64-443a-a520-235527abfe19",
   "metadata": {},
   "outputs": [],
   "source": []
  },
  {
   "cell_type": "markdown",
   "id": "c9ff5cc8-03bc-4d99-8f03-d9c4f7990d90",
   "metadata": {},
   "source": [
    "## Business Problem 3"
   ]
  },
  {
   "cell_type": "markdown",
   "id": "cbad3c9a-4c77-4cdf-b494-32d2061b965e",
   "metadata": {},
   "source": [
    "BUSINESS PROBLEM: Determine what effect, if any, the reengineering effort had on the \\\n",
    "incidence behavioral problems and staff turnover. i.e To determine if the reengineering effort\\\n",
    "changed the critical incidence rate. Isthere evidence that the critical incidence rate\\\n",
    "improved?"
   ]
  },
  {
   "cell_type": "code",
   "execution_count": 19,
   "id": "d0e80f48-b9dc-4e85-9e3e-f594b605651b",
   "metadata": {},
   "outputs": [
    {
     "data": {
      "text/html": [
       "<div>\n",
       "<style scoped>\n",
       "    .dataframe tbody tr th:only-of-type {\n",
       "        vertical-align: middle;\n",
       "    }\n",
       "\n",
       "    .dataframe tbody tr th {\n",
       "        vertical-align: top;\n",
       "    }\n",
       "\n",
       "    .dataframe thead th {\n",
       "        text-align: right;\n",
       "    }\n",
       "</style>\n",
       "<table border=\"1\" class=\"dataframe\">\n",
       "  <thead>\n",
       "    <tr style=\"text-align: right;\">\n",
       "      <th></th>\n",
       "      <th>Month</th>\n",
       "      <th>Reengineer</th>\n",
       "      <th>Employee_Turnover</th>\n",
       "      <th>VAR4</th>\n",
       "      <th>VAR5</th>\n",
       "    </tr>\n",
       "  </thead>\n",
       "  <tbody>\n",
       "    <tr>\n",
       "      <th>0</th>\n",
       "      <td>1</td>\n",
       "      <td>Prior</td>\n",
       "      <td>0.0000</td>\n",
       "      <td>24.390244</td>\n",
       "      <td>42.682927</td>\n",
       "    </tr>\n",
       "    <tr>\n",
       "      <th>1</th>\n",
       "      <td>2</td>\n",
       "      <td>Prior</td>\n",
       "      <td>6.0606</td>\n",
       "      <td>19.354839</td>\n",
       "      <td>25.806452</td>\n",
       "    </tr>\n",
       "    <tr>\n",
       "      <th>2</th>\n",
       "      <td>3</td>\n",
       "      <td>Prior</td>\n",
       "      <td>12.1212</td>\n",
       "      <td>35.087719</td>\n",
       "      <td>146.198830</td>\n",
       "    </tr>\n",
       "    <tr>\n",
       "      <th>3</th>\n",
       "      <td>4</td>\n",
       "      <td>Prior</td>\n",
       "      <td>3.3333</td>\n",
       "      <td>18.404908</td>\n",
       "      <td>110.429448</td>\n",
       "    </tr>\n",
       "    <tr>\n",
       "      <th>4</th>\n",
       "      <td>5</td>\n",
       "      <td>Prior</td>\n",
       "      <td>12.9032</td>\n",
       "      <td>17.964072</td>\n",
       "      <td>23.952096</td>\n",
       "    </tr>\n",
       "    <tr>\n",
       "      <th>5</th>\n",
       "      <td>6</td>\n",
       "      <td>Prior</td>\n",
       "      <td>9.6774</td>\n",
       "      <td>41.176471</td>\n",
       "      <td>47.058824</td>\n",
       "    </tr>\n",
       "    <tr>\n",
       "      <th>6</th>\n",
       "      <td>7</td>\n",
       "      <td>Prior</td>\n",
       "      <td>11.7647</td>\n",
       "      <td>13.422819</td>\n",
       "      <td>0.000000</td>\n",
       "    </tr>\n",
       "    <tr>\n",
       "      <th>7</th>\n",
       "      <td>8</td>\n",
       "      <td>Prior</td>\n",
       "      <td>11.4286</td>\n",
       "      <td>31.250000</td>\n",
       "      <td>25.000000</td>\n",
       "    </tr>\n",
       "    <tr>\n",
       "      <th>8</th>\n",
       "      <td>9</td>\n",
       "      <td>Prior</td>\n",
       "      <td>23.0769</td>\n",
       "      <td>17.241379</td>\n",
       "      <td>132.183908</td>\n",
       "    </tr>\n",
       "    <tr>\n",
       "      <th>9</th>\n",
       "      <td>10</td>\n",
       "      <td>Prior</td>\n",
       "      <td>15.0000</td>\n",
       "      <td>16.574586</td>\n",
       "      <td>16.574586</td>\n",
       "    </tr>\n",
       "    <tr>\n",
       "      <th>10</th>\n",
       "      <td>11</td>\n",
       "      <td>Prior</td>\n",
       "      <td>10.0000</td>\n",
       "      <td>5.917160</td>\n",
       "      <td>88.757396</td>\n",
       "    </tr>\n",
       "    <tr>\n",
       "      <th>11</th>\n",
       "      <td>12</td>\n",
       "      <td>Prior</td>\n",
       "      <td>26.0870</td>\n",
       "      <td>21.164021</td>\n",
       "      <td>31.746032</td>\n",
       "    </tr>\n",
       "    <tr>\n",
       "      <th>12</th>\n",
       "      <td>13</td>\n",
       "      <td>Prior</td>\n",
       "      <td>11.1111</td>\n",
       "      <td>5.076142</td>\n",
       "      <td>10.152284</td>\n",
       "    </tr>\n",
       "    <tr>\n",
       "      <th>13</th>\n",
       "      <td>14</td>\n",
       "      <td>Post</td>\n",
       "      <td>26.6667</td>\n",
       "      <td>9.708738</td>\n",
       "      <td>29.126214</td>\n",
       "    </tr>\n",
       "    <tr>\n",
       "      <th>14</th>\n",
       "      <td>15</td>\n",
       "      <td>Post</td>\n",
       "      <td>17.9487</td>\n",
       "      <td>4.201681</td>\n",
       "      <td>21.008403</td>\n",
       "    </tr>\n",
       "    <tr>\n",
       "      <th>15</th>\n",
       "      <td>16</td>\n",
       "      <td>Post</td>\n",
       "      <td>12.8205</td>\n",
       "      <td>13.043478</td>\n",
       "      <td>34.782609</td>\n",
       "    </tr>\n",
       "    <tr>\n",
       "      <th>16</th>\n",
       "      <td>17</td>\n",
       "      <td>Post</td>\n",
       "      <td>15.7895</td>\n",
       "      <td>9.950249</td>\n",
       "      <td>19.900498</td>\n",
       "    </tr>\n",
       "    <tr>\n",
       "      <th>17</th>\n",
       "      <td>18</td>\n",
       "      <td>Post</td>\n",
       "      <td>0.0000</td>\n",
       "      <td>9.950249</td>\n",
       "      <td>9.950249</td>\n",
       "    </tr>\n",
       "    <tr>\n",
       "      <th>18</th>\n",
       "      <td>19</td>\n",
       "      <td>Post</td>\n",
       "      <td>30.7692</td>\n",
       "      <td>8.510638</td>\n",
       "      <td>25.531915</td>\n",
       "    </tr>\n",
       "    <tr>\n",
       "      <th>19</th>\n",
       "      <td>20</td>\n",
       "      <td>Post</td>\n",
       "      <td>26.8293</td>\n",
       "      <td>9.259259</td>\n",
       "      <td>23.148148</td>\n",
       "    </tr>\n",
       "  </tbody>\n",
       "</table>\n",
       "</div>"
      ],
      "text/plain": [
       "    Month Reengineer  Employee_Turnover       VAR4        VAR5\n",
       "0       1      Prior             0.0000  24.390244   42.682927\n",
       "1       2      Prior             6.0606  19.354839   25.806452\n",
       "2       3      Prior            12.1212  35.087719  146.198830\n",
       "3       4      Prior             3.3333  18.404908  110.429448\n",
       "4       5      Prior            12.9032  17.964072   23.952096\n",
       "5       6      Prior             9.6774  41.176471   47.058824\n",
       "6       7      Prior            11.7647  13.422819    0.000000\n",
       "7       8      Prior            11.4286  31.250000   25.000000\n",
       "8       9      Prior            23.0769  17.241379  132.183908\n",
       "9      10      Prior            15.0000  16.574586   16.574586\n",
       "10     11      Prior            10.0000   5.917160   88.757396\n",
       "11     12      Prior            26.0870  21.164021   31.746032\n",
       "12     13      Prior            11.1111   5.076142   10.152284\n",
       "13     14       Post            26.6667   9.708738   29.126214\n",
       "14     15       Post            17.9487   4.201681   21.008403\n",
       "15     16       Post            12.8205  13.043478   34.782609\n",
       "16     17       Post            15.7895   9.950249   19.900498\n",
       "17     18       Post             0.0000   9.950249    9.950249\n",
       "18     19       Post            30.7692   8.510638   25.531915\n",
       "19     20       Post            26.8293   9.259259   23.148148"
      ]
     },
     "execution_count": 19,
     "metadata": {},
     "output_type": "execute_result"
    }
   ],
   "source": [
    "treatment_facility=pd.read_csv('Treatment_Facility.csv')\n",
    "treatment_facility"
   ]
  },
  {
   "cell_type": "code",
   "execution_count": 20,
   "id": "0008f953-9f54-40e6-8a36-d7fbc2e098d3",
   "metadata": {},
   "outputs": [
    {
     "name": "stdout",
     "output_type": "stream",
     "text": [
      "1.627914425352865\n",
      "0.12091989189884148\n",
      "Conclusion :\n",
      "There is insufficient evidence to conclude that the reengineering effort resulted in a significant change in the critical incidence rate\n"
     ]
    }
   ],
   "source": [
    "treatment_facility.rename(columns={\"VAR4\":\"TRFF\", \"VAR5\": \"CI\"}, inplace =True )\n",
    "prior= treatment_facility[treatment_facility[\"Reengineer\"]==\"Prior\"][\"CI\"]\n",
    "post= treatment_facility[treatment_facility[\"Reengineer\"]==\"Post\"][\"CI\"]\n",
    "f_stat, p_value = stats.ttest_ind(prior,post)\n",
    "print(f_stat),print(p_value)\n",
    "print(\"Conclusion :\")\n",
    "print(\"There is insufficient evidence to conclude that the reengineering effort resulted in a significant change in the critical incidence rate\")"
   ]
  },
  {
   "cell_type": "code",
   "execution_count": null,
   "id": "bb292726-fd81-4373-b3d7-0c10e84e5710",
   "metadata": {},
   "outputs": [],
   "source": []
  },
  {
   "cell_type": "markdown",
   "id": "ba8dfc91-a305-4cc0-98f8-f4e0deb7ecf1",
   "metadata": {},
   "source": [
    "## Business Problem 4"
   ]
  },
  {
   "cell_type": "markdown",
   "id": "043b4e3f-c3e6-46c8-b4f1-a7523ebc75d3",
   "metadata": {},
   "source": [
    "BUSINESS PROBLEM: We will focus on the prioritization system. If the system is working, then\\\n",
    "high priority jobs, on average, should be completed more quickly than medium priority jobs,\\\n",
    "and medium priority jobs should be completed more quickly than low priority jobs. Use the\\\n",
    "data provided to determine whether thisis, in fact, occurring."
   ]
  },
  {
   "cell_type": "code",
   "execution_count": 21,
   "id": "e20fd0d5-2142-41a9-9f30-44b32312d0b0",
   "metadata": {},
   "outputs": [],
   "source": [
    "priority_data = pd.read_csv(\"Priority_Assessment.csv\")"
   ]
  },
  {
   "cell_type": "code",
   "execution_count": 22,
   "id": "eec095cb-f96d-4bfc-8d6e-2727f11adcae",
   "metadata": {},
   "outputs": [
    {
     "data": {
      "text/html": [
       "<div>\n",
       "<style scoped>\n",
       "    .dataframe tbody tr th:only-of-type {\n",
       "        vertical-align: middle;\n",
       "    }\n",
       "\n",
       "    .dataframe tbody tr th {\n",
       "        vertical-align: top;\n",
       "    }\n",
       "\n",
       "    .dataframe thead th {\n",
       "        text-align: right;\n",
       "    }\n",
       "</style>\n",
       "<table border=\"1\" class=\"dataframe\">\n",
       "  <thead>\n",
       "    <tr style=\"text-align: right;\">\n",
       "      <th></th>\n",
       "      <th>Days</th>\n",
       "    </tr>\n",
       "  </thead>\n",
       "  <tbody>\n",
       "    <tr>\n",
       "      <th>count</th>\n",
       "      <td>642.000000</td>\n",
       "    </tr>\n",
       "    <tr>\n",
       "      <th>mean</th>\n",
       "      <td>2.946262</td>\n",
       "    </tr>\n",
       "    <tr>\n",
       "      <th>std</th>\n",
       "      <td>6.687063</td>\n",
       "    </tr>\n",
       "    <tr>\n",
       "      <th>min</th>\n",
       "      <td>0.100000</td>\n",
       "    </tr>\n",
       "    <tr>\n",
       "      <th>25%</th>\n",
       "      <td>0.200000</td>\n",
       "    </tr>\n",
       "    <tr>\n",
       "      <th>50%</th>\n",
       "      <td>0.600000</td>\n",
       "    </tr>\n",
       "    <tr>\n",
       "      <th>75%</th>\n",
       "      <td>2.500000</td>\n",
       "    </tr>\n",
       "    <tr>\n",
       "      <th>max</th>\n",
       "      <td>72.900000</td>\n",
       "    </tr>\n",
       "  </tbody>\n",
       "</table>\n",
       "</div>"
      ],
      "text/plain": [
       "             Days\n",
       "count  642.000000\n",
       "mean     2.946262\n",
       "std      6.687063\n",
       "min      0.100000\n",
       "25%      0.200000\n",
       "50%      0.600000\n",
       "75%      2.500000\n",
       "max     72.900000"
      ]
     },
     "execution_count": 22,
     "metadata": {},
     "output_type": "execute_result"
    }
   ],
   "source": [
    "priority_data.describe()"
   ]
  },
  {
   "cell_type": "code",
   "execution_count": 23,
   "id": "8ee7a31f-7a25-4e0b-bda2-3675e6ea108f",
   "metadata": {},
   "outputs": [],
   "source": [
    "high= priority_data[priority_data[\"Priority\"]==\"High\"].Days\n",
    "medium= priority_data[priority_data[\"Priority\"]==\"Medium\"].Days\n",
    "low= priority_data[priority_data[\"Priority\"]==\"Low\"].Days"
   ]
  },
  {
   "cell_type": "code",
   "execution_count": 24,
   "id": "4c09ffdd-b3f6-4da6-ba44-b75772868354",
   "metadata": {},
   "outputs": [
    {
     "name": "stdout",
     "output_type": "stream",
     "text": [
      "1.812311010076072\n",
      "0.16411459461716182\n",
      "Conclusion :\n",
      "The prioritization system is not working\n"
     ]
    }
   ],
   "source": [
    "f_stat, p_value =stats.f_oneway(high,medium,low)\n",
    "print(f_stat), print(p_value) \n",
    "print(\"Conclusion :\")\n",
    "print(\"The prioritization system is not working\")"
   ]
  },
  {
   "cell_type": "code",
   "execution_count": null,
   "id": "b48e7f1a-a10f-4ba4-bd5a-7343936932b7",
   "metadata": {},
   "outputs": [],
   "source": []
  },
  {
   "cell_type": "markdown",
   "id": "0de6dcad-6cf2-4e06-ac16-1a2d21be5603",
   "metadata": {},
   "source": [
    "## Business Problem 5"
   ]
  },
  {
   "cell_type": "markdown",
   "id": "90f53025-e7d5-40e8-bb3b-c7c727b1f2b0",
   "metadata": {},
   "source": [
    "BUSINESS PROBLEM: Use the survey resultsto addressthe following questions\\\n",
    " What isthe overall level of customer satisfaction?"
   ]
  },
  {
   "cell_type": "code",
   "execution_count": 25,
   "id": "a8a112c1-a169-4ee6-b1a0-e8d27d8e3202",
   "metadata": {},
   "outputs": [
    {
     "data": {
      "text/html": [
       "<div>\n",
       "<style scoped>\n",
       "    .dataframe tbody tr th:only-of-type {\n",
       "        vertical-align: middle;\n",
       "    }\n",
       "\n",
       "    .dataframe tbody tr th {\n",
       "        vertical-align: top;\n",
       "    }\n",
       "\n",
       "    .dataframe thead th {\n",
       "        text-align: right;\n",
       "    }\n",
       "</style>\n",
       "<table border=\"1\" class=\"dataframe\">\n",
       "  <thead>\n",
       "    <tr style=\"text-align: right;\">\n",
       "      <th></th>\n",
       "      <th>_rowstate_</th>\n",
       "      <th>Movie</th>\n",
       "      <th>Gender</th>\n",
       "      <th>Marital_Status</th>\n",
       "      <th>Sinage</th>\n",
       "      <th>Parking</th>\n",
       "      <th>Clean</th>\n",
       "      <th>Overall</th>\n",
       "      <th>Age</th>\n",
       "      <th>Income</th>\n",
       "      <th>Hear_About</th>\n",
       "    </tr>\n",
       "  </thead>\n",
       "  <tbody>\n",
       "    <tr>\n",
       "      <th>0</th>\n",
       "      <td>0</td>\n",
       "      <td>Ferris Buellers Day Off</td>\n",
       "      <td>Female</td>\n",
       "      <td>Married</td>\n",
       "      <td>2.0</td>\n",
       "      <td>2.0</td>\n",
       "      <td>2.0</td>\n",
       "      <td>2.0</td>\n",
       "      <td>3.0</td>\n",
       "      <td>1.0</td>\n",
       "      <td>5</td>\n",
       "    </tr>\n",
       "    <tr>\n",
       "      <th>1</th>\n",
       "      <td>0</td>\n",
       "      <td>Ferris Buellers Day Off</td>\n",
       "      <td>Female</td>\n",
       "      <td>Single</td>\n",
       "      <td>1.0</td>\n",
       "      <td>1.0</td>\n",
       "      <td>1.0</td>\n",
       "      <td>1.0</td>\n",
       "      <td>2.0</td>\n",
       "      <td>1.0</td>\n",
       "      <td>5</td>\n",
       "    </tr>\n",
       "    <tr>\n",
       "      <th>2</th>\n",
       "      <td>0</td>\n",
       "      <td>Ferris Buellers Day Off</td>\n",
       "      <td>Male</td>\n",
       "      <td>Married</td>\n",
       "      <td>2.0</td>\n",
       "      <td>4.0</td>\n",
       "      <td>3.0</td>\n",
       "      <td>2.0</td>\n",
       "      <td>4.0</td>\n",
       "      <td>1.0</td>\n",
       "      <td>5</td>\n",
       "    </tr>\n",
       "    <tr>\n",
       "      <th>3</th>\n",
       "      <td>0</td>\n",
       "      <td>Ferris Buellers Day Off</td>\n",
       "      <td>Female</td>\n",
       "      <td>Married</td>\n",
       "      <td>1.0</td>\n",
       "      <td>3.0</td>\n",
       "      <td>2.0</td>\n",
       "      <td>2.0</td>\n",
       "      <td>4.0</td>\n",
       "      <td>1.0</td>\n",
       "      <td>5</td>\n",
       "    </tr>\n",
       "    <tr>\n",
       "      <th>4</th>\n",
       "      <td>0</td>\n",
       "      <td>Ferris Buellers Day Off</td>\n",
       "      <td>Female</td>\n",
       "      <td>Married</td>\n",
       "      <td>1.0</td>\n",
       "      <td>1.0</td>\n",
       "      <td>1.0</td>\n",
       "      <td>1.0</td>\n",
       "      <td>3.0</td>\n",
       "      <td>3.0</td>\n",
       "      <td>1</td>\n",
       "    </tr>\n",
       "    <tr>\n",
       "      <th>...</th>\n",
       "      <td>...</td>\n",
       "      <td>...</td>\n",
       "      <td>...</td>\n",
       "      <td>...</td>\n",
       "      <td>...</td>\n",
       "      <td>...</td>\n",
       "      <td>...</td>\n",
       "      <td>...</td>\n",
       "      <td>...</td>\n",
       "      <td>...</td>\n",
       "      <td>...</td>\n",
       "    </tr>\n",
       "    <tr>\n",
       "      <th>325</th>\n",
       "      <td>0</td>\n",
       "      <td>Old School</td>\n",
       "      <td>2</td>\n",
       "      <td>2</td>\n",
       "      <td>1.0</td>\n",
       "      <td>2.0</td>\n",
       "      <td>1.0</td>\n",
       "      <td>1.0</td>\n",
       "      <td>2.0</td>\n",
       "      <td>1.0</td>\n",
       "      <td>1</td>\n",
       "    </tr>\n",
       "    <tr>\n",
       "      <th>326</th>\n",
       "      <td>0</td>\n",
       "      <td>Old School</td>\n",
       "      <td>1</td>\n",
       "      <td>1</td>\n",
       "      <td>2.0</td>\n",
       "      <td>2.0</td>\n",
       "      <td>2.0</td>\n",
       "      <td>2.0</td>\n",
       "      <td>3.0</td>\n",
       "      <td>3.0</td>\n",
       "      <td>5</td>\n",
       "    </tr>\n",
       "    <tr>\n",
       "      <th>327</th>\n",
       "      <td>0</td>\n",
       "      <td>Old School</td>\n",
       "      <td>2</td>\n",
       "      <td>1</td>\n",
       "      <td>2.0</td>\n",
       "      <td>1.0</td>\n",
       "      <td>1.0</td>\n",
       "      <td>2.0</td>\n",
       "      <td>2.0</td>\n",
       "      <td>2.0</td>\n",
       "      <td>5</td>\n",
       "    </tr>\n",
       "    <tr>\n",
       "      <th>328</th>\n",
       "      <td>0</td>\n",
       "      <td>Old School</td>\n",
       "      <td>1</td>\n",
       "      <td>1</td>\n",
       "      <td>1.0</td>\n",
       "      <td>1.0</td>\n",
       "      <td>1.0</td>\n",
       "      <td>1.0</td>\n",
       "      <td>2.0</td>\n",
       "      <td>1.0</td>\n",
       "      <td>3</td>\n",
       "    </tr>\n",
       "    <tr>\n",
       "      <th>329</th>\n",
       "      <td>0</td>\n",
       "      <td>Old School</td>\n",
       "      <td>2</td>\n",
       "      <td>2</td>\n",
       "      <td>2.0</td>\n",
       "      <td>2.0</td>\n",
       "      <td>3.0</td>\n",
       "      <td>1.0</td>\n",
       "      <td>2.0</td>\n",
       "      <td>1.0</td>\n",
       "      <td>5</td>\n",
       "    </tr>\n",
       "  </tbody>\n",
       "</table>\n",
       "<p>330 rows × 11 columns</p>\n",
       "</div>"
      ],
      "text/plain": [
       "     _rowstate_                    Movie  Gender Marital_Status  Sinage  \\\n",
       "0             0  Ferris Buellers Day Off  Female        Married     2.0   \n",
       "1             0  Ferris Buellers Day Off  Female         Single     1.0   \n",
       "2             0  Ferris Buellers Day Off    Male        Married     2.0   \n",
       "3             0  Ferris Buellers Day Off  Female        Married     1.0   \n",
       "4             0  Ferris Buellers Day Off  Female        Married     1.0   \n",
       "..          ...                      ...     ...            ...     ...   \n",
       "325           0               Old School       2              2     1.0   \n",
       "326           0               Old School       1              1     2.0   \n",
       "327           0               Old School       2              1     2.0   \n",
       "328           0               Old School       1              1     1.0   \n",
       "329           0               Old School       2              2     2.0   \n",
       "\n",
       "     Parking  Clean  Overall  Age  Income Hear_About  \n",
       "0        2.0    2.0      2.0  3.0     1.0          5  \n",
       "1        1.0    1.0      1.0  2.0     1.0          5  \n",
       "2        4.0    3.0      2.0  4.0     1.0          5  \n",
       "3        3.0    2.0      2.0  4.0     1.0          5  \n",
       "4        1.0    1.0      1.0  3.0     3.0          1  \n",
       "..       ...    ...      ...  ...     ...        ...  \n",
       "325      2.0    1.0      1.0  2.0     1.0          1  \n",
       "326      2.0    2.0      2.0  3.0     3.0          5  \n",
       "327      1.0    1.0      2.0  2.0     2.0          5  \n",
       "328      1.0    1.0      1.0  2.0     1.0          3  \n",
       "329      2.0    3.0      1.0  2.0     1.0          5  \n",
       "\n",
       "[330 rows x 11 columns]"
      ]
     },
     "execution_count": 25,
     "metadata": {},
     "output_type": "execute_result"
    }
   ],
   "source": [
    "film_data =pd.read_csv(\"Films.csv\")\n",
    "film_data"
   ]
  },
  {
   "cell_type": "code",
   "execution_count": 26,
   "id": "e071a2d8-a46e-4386-91dc-433a5e9e173d",
   "metadata": {},
   "outputs": [
    {
     "data": {
      "text/html": [
       "<div>\n",
       "<style scoped>\n",
       "    .dataframe tbody tr th:only-of-type {\n",
       "        vertical-align: middle;\n",
       "    }\n",
       "\n",
       "    .dataframe tbody tr th {\n",
       "        vertical-align: top;\n",
       "    }\n",
       "\n",
       "    .dataframe thead th {\n",
       "        text-align: right;\n",
       "    }\n",
       "</style>\n",
       "<table border=\"1\" class=\"dataframe\">\n",
       "  <thead>\n",
       "    <tr style=\"text-align: right;\">\n",
       "      <th></th>\n",
       "      <th>_rowstate_</th>\n",
       "      <th>Movie</th>\n",
       "      <th>Gender</th>\n",
       "      <th>Marital_Status</th>\n",
       "      <th>Sinage</th>\n",
       "      <th>Parking</th>\n",
       "      <th>Clean</th>\n",
       "      <th>Overall</th>\n",
       "      <th>Age</th>\n",
       "      <th>Income</th>\n",
       "      <th>Hear_About</th>\n",
       "    </tr>\n",
       "  </thead>\n",
       "  <tbody>\n",
       "    <tr>\n",
       "      <th>0</th>\n",
       "      <td>0</td>\n",
       "      <td>Ferris Buellers Day Off</td>\n",
       "      <td>Female</td>\n",
       "      <td>Married</td>\n",
       "      <td>2.0</td>\n",
       "      <td>2.0</td>\n",
       "      <td>2.0</td>\n",
       "      <td>2.0</td>\n",
       "      <td>3.0</td>\n",
       "      <td>1.0</td>\n",
       "      <td>5</td>\n",
       "    </tr>\n",
       "    <tr>\n",
       "      <th>1</th>\n",
       "      <td>0</td>\n",
       "      <td>Ferris Buellers Day Off</td>\n",
       "      <td>Female</td>\n",
       "      <td>Single</td>\n",
       "      <td>1.0</td>\n",
       "      <td>1.0</td>\n",
       "      <td>1.0</td>\n",
       "      <td>1.0</td>\n",
       "      <td>2.0</td>\n",
       "      <td>1.0</td>\n",
       "      <td>5</td>\n",
       "    </tr>\n",
       "    <tr>\n",
       "      <th>2</th>\n",
       "      <td>0</td>\n",
       "      <td>Ferris Buellers Day Off</td>\n",
       "      <td>Male</td>\n",
       "      <td>Married</td>\n",
       "      <td>2.0</td>\n",
       "      <td>4.0</td>\n",
       "      <td>3.0</td>\n",
       "      <td>2.0</td>\n",
       "      <td>4.0</td>\n",
       "      <td>1.0</td>\n",
       "      <td>5</td>\n",
       "    </tr>\n",
       "    <tr>\n",
       "      <th>3</th>\n",
       "      <td>0</td>\n",
       "      <td>Ferris Buellers Day Off</td>\n",
       "      <td>Female</td>\n",
       "      <td>Married</td>\n",
       "      <td>1.0</td>\n",
       "      <td>3.0</td>\n",
       "      <td>2.0</td>\n",
       "      <td>2.0</td>\n",
       "      <td>4.0</td>\n",
       "      <td>1.0</td>\n",
       "      <td>5</td>\n",
       "    </tr>\n",
       "    <tr>\n",
       "      <th>4</th>\n",
       "      <td>0</td>\n",
       "      <td>Ferris Buellers Day Off</td>\n",
       "      <td>Female</td>\n",
       "      <td>Married</td>\n",
       "      <td>1.0</td>\n",
       "      <td>1.0</td>\n",
       "      <td>1.0</td>\n",
       "      <td>1.0</td>\n",
       "      <td>3.0</td>\n",
       "      <td>3.0</td>\n",
       "      <td>1</td>\n",
       "    </tr>\n",
       "    <tr>\n",
       "      <th>...</th>\n",
       "      <td>...</td>\n",
       "      <td>...</td>\n",
       "      <td>...</td>\n",
       "      <td>...</td>\n",
       "      <td>...</td>\n",
       "      <td>...</td>\n",
       "      <td>...</td>\n",
       "      <td>...</td>\n",
       "      <td>...</td>\n",
       "      <td>...</td>\n",
       "      <td>...</td>\n",
       "    </tr>\n",
       "    <tr>\n",
       "      <th>325</th>\n",
       "      <td>0</td>\n",
       "      <td>Old School</td>\n",
       "      <td>Female</td>\n",
       "      <td>Single</td>\n",
       "      <td>1.0</td>\n",
       "      <td>2.0</td>\n",
       "      <td>1.0</td>\n",
       "      <td>1.0</td>\n",
       "      <td>2.0</td>\n",
       "      <td>1.0</td>\n",
       "      <td>1</td>\n",
       "    </tr>\n",
       "    <tr>\n",
       "      <th>326</th>\n",
       "      <td>0</td>\n",
       "      <td>Old School</td>\n",
       "      <td>Male</td>\n",
       "      <td>Married</td>\n",
       "      <td>2.0</td>\n",
       "      <td>2.0</td>\n",
       "      <td>2.0</td>\n",
       "      <td>2.0</td>\n",
       "      <td>3.0</td>\n",
       "      <td>3.0</td>\n",
       "      <td>5</td>\n",
       "    </tr>\n",
       "    <tr>\n",
       "      <th>327</th>\n",
       "      <td>0</td>\n",
       "      <td>Old School</td>\n",
       "      <td>Female</td>\n",
       "      <td>Married</td>\n",
       "      <td>2.0</td>\n",
       "      <td>1.0</td>\n",
       "      <td>1.0</td>\n",
       "      <td>2.0</td>\n",
       "      <td>2.0</td>\n",
       "      <td>2.0</td>\n",
       "      <td>5</td>\n",
       "    </tr>\n",
       "    <tr>\n",
       "      <th>328</th>\n",
       "      <td>0</td>\n",
       "      <td>Old School</td>\n",
       "      <td>Male</td>\n",
       "      <td>Married</td>\n",
       "      <td>1.0</td>\n",
       "      <td>1.0</td>\n",
       "      <td>1.0</td>\n",
       "      <td>1.0</td>\n",
       "      <td>2.0</td>\n",
       "      <td>1.0</td>\n",
       "      <td>3</td>\n",
       "    </tr>\n",
       "    <tr>\n",
       "      <th>329</th>\n",
       "      <td>0</td>\n",
       "      <td>Old School</td>\n",
       "      <td>Female</td>\n",
       "      <td>Single</td>\n",
       "      <td>2.0</td>\n",
       "      <td>2.0</td>\n",
       "      <td>3.0</td>\n",
       "      <td>1.0</td>\n",
       "      <td>2.0</td>\n",
       "      <td>1.0</td>\n",
       "      <td>5</td>\n",
       "    </tr>\n",
       "  </tbody>\n",
       "</table>\n",
       "<p>330 rows × 11 columns</p>\n",
       "</div>"
      ],
      "text/plain": [
       "     _rowstate_                    Movie  Gender Marital_Status  Sinage  \\\n",
       "0             0  Ferris Buellers Day Off  Female        Married     2.0   \n",
       "1             0  Ferris Buellers Day Off  Female         Single     1.0   \n",
       "2             0  Ferris Buellers Day Off    Male        Married     2.0   \n",
       "3             0  Ferris Buellers Day Off  Female        Married     1.0   \n",
       "4             0  Ferris Buellers Day Off  Female        Married     1.0   \n",
       "..          ...                      ...     ...            ...     ...   \n",
       "325           0               Old School  Female         Single     1.0   \n",
       "326           0               Old School    Male        Married     2.0   \n",
       "327           0               Old School  Female        Married     2.0   \n",
       "328           0               Old School    Male        Married     1.0   \n",
       "329           0               Old School  Female         Single     2.0   \n",
       "\n",
       "     Parking  Clean  Overall  Age  Income Hear_About  \n",
       "0        2.0    2.0      2.0  3.0     1.0          5  \n",
       "1        1.0    1.0      1.0  2.0     1.0          5  \n",
       "2        4.0    3.0      2.0  4.0     1.0          5  \n",
       "3        3.0    2.0      2.0  4.0     1.0          5  \n",
       "4        1.0    1.0      1.0  3.0     3.0          1  \n",
       "..       ...    ...      ...  ...     ...        ...  \n",
       "325      2.0    1.0      1.0  2.0     1.0          1  \n",
       "326      2.0    2.0      2.0  3.0     3.0          5  \n",
       "327      1.0    1.0      2.0  2.0     2.0          5  \n",
       "328      1.0    1.0      1.0  2.0     1.0          3  \n",
       "329      2.0    3.0      1.0  2.0     1.0          5  \n",
       "\n",
       "[330 rows x 11 columns]"
      ]
     },
     "execution_count": 26,
     "metadata": {},
     "output_type": "execute_result"
    }
   ],
   "source": [
    "film_data.Gender.replace({\"1\": \"Male\",\"2\":\"Female\"},inplace=  True)\n",
    "film_data.Marital_Status.replace({'1': 'Married', '2':'Single'}, inplace=True)\n",
    "film_data.replace('Slngle','Single', inplace=True)\n",
    "film_data"
   ]
  },
  {
   "cell_type": "code",
   "execution_count": 80,
   "id": "21241ab0-f9b0-4f16-a15c-679dcda926d0",
   "metadata": {},
   "outputs": [
    {
     "data": {
      "image/png": "[encoded data removed]",
      "text/plain": [
       "<Figure size 640x480 with 1 Axes>"
      ]
     },
     "metadata": {},
     "output_type": "display_data"
    },
    {
     "name": "stdout",
     "output_type": "stream",
     "text": [
      "Conclusion :\n",
      "Customer's Overall Satisfaction is GOOD and EXCELLENT\n"
     ]
    }
   ],
   "source": [
    "film_data.Overall.value_counts()\n",
    "plt.hist(film_data.Overall)\n",
    "plt.xlabel(\"Overall Satisfacction\")\n",
    "plt.ylabel(\"Frequency\")\n",
    "plt.title(\"Overall Customers Satisfaction Chart\")\n",
    "plt.show()\n",
    "print(\"Conclusion :\")\n",
    "print(\"Customer's Overall Satisfaction is GOOD and EXCELLENT\")"
   ]
  },
  {
   "cell_type": "code",
   "execution_count": null,
   "id": "92fe09e9-8ffb-4c43-95bb-c62a0914f8e1",
   "metadata": {},
   "outputs": [],
   "source": []
  },
  {
   "cell_type": "markdown",
   "id": "d02787f6-f18c-4362-a480-7fb6f21dd384",
   "metadata": {},
   "source": [
    "b What factors are linked to satisfaction?"
   ]
  },
  {
   "cell_type": "code",
   "execution_count": 27,
   "id": "860829bf-5e2f-4fc4-aa2e-51ee287e29ab",
   "metadata": {},
   "outputs": [],
   "source": [
    "overall_and_sinage= pd.crosstab(index=film_data.Overall,columns=(film_data.Sinage))"
   ]
  },
  {
   "cell_type": "code",
   "execution_count": 28,
   "id": "aba94e6e-92d0-4f93-a18c-05c0fecbe037",
   "metadata": {},
   "outputs": [
    {
     "data": {
      "text/plain": [
       "Chi2ContingencyResult(statistic=124.81695331531306, pvalue=6.47639805161236e-19, dof=16, expected_freq=array([[5.18348624e+01, 7.11009174e+01, 2.20183486e+01, 2.75229358e+00,\n",
       "        2.29357798e+00],\n",
       "       [5.52905199e+01, 7.58409786e+01, 2.34862385e+01, 2.93577982e+00,\n",
       "        2.44648318e+00],\n",
       "       [4.14678899e+00, 5.68807339e+00, 1.76146789e+00, 2.20183486e-01,\n",
       "        1.83486239e-01],\n",
       "       [3.45565749e-01, 4.74006116e-01, 1.46788991e-01, 1.83486239e-02,\n",
       "        1.52905199e-02],\n",
       "       [1.38226300e+00, 1.89602446e+00, 5.87155963e-01, 7.33944954e-02,\n",
       "        6.11620795e-02]]))"
      ]
     },
     "execution_count": 28,
     "metadata": {},
     "output_type": "execute_result"
    }
   ],
   "source": [
    "stats.chi2_contingency(overall_and_sinage)"
   ]
  },
  {
   "cell_type": "code",
   "execution_count": 29,
   "id": "73f74777-a6d8-4dd9-a1cf-9fe66eec5702",
   "metadata": {},
   "outputs": [
    {
     "data": {
      "text/plain": [
       "Chi2ContingencyResult(statistic=229.47943657632044, pvalue=8.162450437897989e-40, dof=16, expected_freq=array([[6.18776758e+01, 7.06513761e+01, 1.33914373e+01, 3.23241590e+00,\n",
       "        1.84709480e+00],\n",
       "       [6.51559633e+01, 7.43944954e+01, 1.41009174e+01, 3.40366972e+00,\n",
       "        1.94495413e+00],\n",
       "       [4.91743119e+00, 5.61467890e+00, 1.06422018e+00, 2.56880734e-01,\n",
       "        1.46788991e-01],\n",
       "       [4.09785933e-01, 4.67889908e-01, 8.86850153e-02, 2.14067278e-02,\n",
       "        1.22324159e-02],\n",
       "       [1.63914373e+00, 1.87155963e+00, 3.54740061e-01, 8.56269113e-02,\n",
       "        4.89296636e-02]]))"
      ]
     },
     "execution_count": 29,
     "metadata": {},
     "output_type": "execute_result"
    }
   ],
   "source": [
    "overall_and_parking= pd.crosstab(index=film_data.Overall,columns=(film_data.Parking))\n",
    "stats.chi2_contingency(overall_and_parking)"
   ]
  },
  {
   "cell_type": "code",
   "execution_count": 97,
   "id": "f719adc8-0d66-4512-abae-c3eaef9c38f2",
   "metadata": {},
   "outputs": [
    {
     "data": {
      "text/plain": [
       "Chi2ContingencyResult(statistic=125.17708834561675, pvalue=5.517448379868074e-19, dof=16, expected_freq=array([[6.64954128e+01, 7.01896024e+01, 1.10825688e+01, 2.30886850e+00,\n",
       "        9.23547401e-01],\n",
       "       [7.00183486e+01, 7.39082569e+01, 1.16697248e+01, 2.43119266e+00,\n",
       "        9.72477064e-01],\n",
       "       [5.28440367e+00, 5.57798165e+00, 8.80733945e-01, 1.83486239e-01,\n",
       "        7.33944954e-02],\n",
       "       [4.40366972e-01, 4.64831804e-01, 7.33944954e-02, 1.52905199e-02,\n",
       "        6.11620795e-03],\n",
       "       [1.76146789e+00, 1.85932722e+00, 2.93577982e-01, 6.11620795e-02,\n",
       "        2.44648318e-02]]))"
      ]
     },
     "execution_count": 97,
     "metadata": {},
     "output_type": "execute_result"
    }
   ],
   "source": [
    "overall_and_clean =pd.crosstab(index=film_data.Overall,columns=(film_data.Clean))\n",
    "stats.chi2_contingency(overall_and_clean)\n"
   ]
  },
  {
   "cell_type": "code",
   "execution_count": 95,
   "id": "74bc7d6b-963a-489a-884a-a87149777883",
   "metadata": {},
   "outputs": [
    {
     "name": "stdout",
     "output_type": "stream",
     "text": [
      "Conclusion: \n",
      "There is a significant correlation between the overall satisfaction level and various factors such as Sinage,Cleaniness and Parking and these factors are responsible to affect the Overall Satisfaction of the Customer\n"
     ]
    }
   ],
   "source": [
    "print(\"Conclusion: \")\n",
    "print(\"There is a significant correlation between the overall satisfaction level and various factors such as Sinage,\\\n",
    "Cleaniness and Parking and these factors are responsible to affect the Overall Satisfaction of the Customer\")"
   ]
  },
  {
   "cell_type": "code",
   "execution_count": null,
   "id": "4b098c0c-170d-4978-95e0-0f7c79a4f96c",
   "metadata": {},
   "outputs": [],
   "source": []
  },
  {
   "cell_type": "markdown",
   "id": "2b04c717-7c11-4d7c-9714-0b611c76acb7",
   "metadata": {},
   "source": [
    " What is the demographic profile of Film on the Rocks patrons?"
   ]
  },
  {
   "cell_type": "code",
   "execution_count": 99,
   "id": "e01e5e02-2854-49dc-82f4-c0c733a25521",
   "metadata": {},
   "outputs": [
    {
     "data": {
      "text/plain": [
       "Gender\n",
       "Female    213\n",
       "Male      117\n",
       "Name: count, dtype: int64"
      ]
     },
     "execution_count": 99,
     "metadata": {},
     "output_type": "execute_result"
    }
   ],
   "source": [
    "film_data.Gender.value_counts()"
   ]
  },
  {
   "cell_type": "code",
   "execution_count": 105,
   "id": "c8848fbe-bbcc-4789-a4c9-8d32242ad57c",
   "metadata": {},
   "outputs": [
    {
     "data": {
      "text/plain": [
       "64.54545454545455"
      ]
     },
     "execution_count": 105,
     "metadata": {},
     "output_type": "execute_result"
    }
   ],
   "source": [
    "213/film_data.shape[0]*100"
   ]
  },
  {
   "cell_type": "code",
   "execution_count": 104,
   "id": "2c231d7c-0de0-442f-8886-28636946bdec",
   "metadata": {},
   "outputs": [
    {
     "data": {
      "text/plain": [
       "35.45454545454545"
      ]
     },
     "execution_count": 104,
     "metadata": {},
     "output_type": "execute_result"
    }
   ],
   "source": [
    "117/film_data.shape[0]*100"
   ]
  },
  {
   "cell_type": "code",
   "execution_count": 106,
   "id": "ae2582a7-8633-40ab-a905-b1d1af913784",
   "metadata": {},
   "outputs": [
    {
     "data": {
      "text/plain": [
       "Marital_Status\n",
       "Single     228\n",
       "Married    100\n",
       "Name: count, dtype: int64"
      ]
     },
     "execution_count": 106,
     "metadata": {},
     "output_type": "execute_result"
    }
   ],
   "source": [
    "film_data.Marital_Status.value_counts()"
   ]
  },
  {
   "cell_type": "code",
   "execution_count": 107,
   "id": "fac1c669-ad07-44f2-bf73-64bfa10206f2",
   "metadata": {},
   "outputs": [
    {
     "data": {
      "text/plain": [
       "69.0909090909091"
      ]
     },
     "execution_count": 107,
     "metadata": {},
     "output_type": "execute_result"
    }
   ],
   "source": [
    "228/film_data.shape[0]*100"
   ]
  },
  {
   "cell_type": "code",
   "execution_count": 108,
   "id": "f7c7c37f-e343-4ca1-86cf-b4ab49213582",
   "metadata": {},
   "outputs": [
    {
     "data": {
      "text/plain": [
       "30.303030303030305"
      ]
     },
     "execution_count": 108,
     "metadata": {},
     "output_type": "execute_result"
    }
   ],
   "source": [
    "100/film_data.shape[0]*100"
   ]
  },
  {
   "cell_type": "code",
   "execution_count": 109,
   "id": "24a6d50b-79af-4cd4-bcb7-16e56a7f0a55",
   "metadata": {},
   "outputs": [
    {
     "data": {
      "text/plain": [
       "Age\n",
       "2.0    175\n",
       "3.0    117\n",
       "1.0     26\n",
       "4.0     10\n",
       "Name: count, dtype: int64"
      ]
     },
     "execution_count": 109,
     "metadata": {},
     "output_type": "execute_result"
    }
   ],
   "source": [
    "film_data.Age.value_counts()"
   ]
  },
  {
   "cell_type": "code",
   "execution_count": 110,
   "id": "42bd540a-d98b-4f1c-89d4-dc5cdf147f34",
   "metadata": {},
   "outputs": [
    {
     "data": {
      "text/plain": [
       "Income\n",
       "1.0    142\n",
       "3.0     90\n",
       "2.0     82\n",
       "Name: count, dtype: int64"
      ]
     },
     "execution_count": 110,
     "metadata": {},
     "output_type": "execute_result"
    }
   ],
   "source": [
    "film_data.Income.value_counts()"
   ]
  },
  {
   "cell_type": "code",
   "execution_count": 111,
   "id": "3775ea45-3dd1-43eb-bae9-f21c63d84e92",
   "metadata": {},
   "outputs": [
    {
     "name": "stdout",
     "output_type": "stream",
     "text": [
      "         Demographic Profile of Film on the Rocks Patrons :\n",
      " \n",
      "There are Total of 213 (64.5%) Female Profiles on The Rock Patrons \n",
      "There are Total of 117 (35.5%) Males Profile on The Rock Patrons\n",
      "There are Total of 228 (69.9%) Single Profiles on The Rock Patrons\n",
      "There are Total of 100 (30.1%) Married Profiles on The Rock Patrons\n",
      "There are More People from Age group 2 (13-30 years) on The Rock Patrons\n",
      "There are More People with Income group 1 (Less than $50,000) on The Rock Patrons\n"
     ]
    }
   ],
   "source": [
    "print(\"         Demographic Profile of Film on the Rocks Patrons :\")\n",
    "print(\" \")\n",
    "print(\"There are Total of 213 (64.5%) Female Profiles on The Rock Patrons \")\n",
    "print(\"There are Total of 117 (35.5%) Males Profile on The Rock Patrons\")\n",
    "print(\"There are Total of 228 (69.9%) Single Profiles on The Rock Patrons\")\n",
    "print(\"There are Total of 100 (30.1%) Married Profiles on The Rock Patrons\")\n",
    "print(\"There are More People from Age group 2 (13-30 years) on The Rock Patrons\")\n",
    "print(\"There are More People with Income group 1 (Less than $50,000) on The Rock Patrons\")"
   ]
  },
  {
   "cell_type": "code",
   "execution_count": null,
   "id": "eee0effd-db1d-4d8a-8cbe-4966f552563a",
   "metadata": {},
   "outputs": [],
   "source": []
  },
  {
   "cell_type": "markdown",
   "id": "b3fd894b-e2b0-4392-8d1b-76607572b38b",
   "metadata": {},
   "source": [
    " In what media outlet(s) should the film series be advertised?"
   ]
  },
  {
   "cell_type": "code",
   "execution_count": 114,
   "id": "223fc89e-6331-4d82-8bbb-5a5e0b4ce98b",
   "metadata": {},
   "outputs": [],
   "source": [
    "film_data.Hear_About.value_counts()\n",
    "film_data.Hear_About.replace({'1,5':'5','2,5':'5', '3,4':'5','3,5':'5', '4,5':'5','5,4':'5'}, inplace=True)"
   ]
  },
  {
   "cell_type": "code",
   "execution_count": 115,
   "id": "d7050a48-04c9-4a46-90a7-743b9a4d4633",
   "metadata": {},
   "outputs": [
    {
     "data": {
      "text/plain": [
       "Hear_About\n",
       "5    234\n",
       "4     41\n",
       "1     22\n",
       "3     14\n",
       "2     12\n",
       "Name: count, dtype: int64"
      ]
     },
     "execution_count": 115,
     "metadata": {},
     "output_type": "execute_result"
    }
   ],
   "source": [
    "film_data.Hear_About.value_counts()"
   ]
  },
  {
   "cell_type": "code",
   "execution_count": 116,
   "id": "904215f2-e9ce-4ea8-b4d8-1f82652436c3",
   "metadata": {},
   "outputs": [],
   "source": [
    "film_data.Hear_About=film_data.Hear_About.astype(\"float\")"
   ]
  },
  {
   "cell_type": "code",
   "execution_count": 118,
   "id": "5b2bd2b1-2e11-4351-be53-cbcc522b8c9f",
   "metadata": {},
   "outputs": [
    {
     "data": {
      "image/png": "[encoded data removed]",
      "text/plain": [
       "<Figure size 640x480 with 1 Axes>"
      ]
     },
     "metadata": {},
     "output_type": "display_data"
    },
    {
     "name": "stdout",
     "output_type": "stream",
     "text": [
      "The Best Media Outlets to Advertise the film series should be WEBSITE and TELEVISION\n"
     ]
    }
   ],
   "source": [
    "plt.hist(film_data.Hear_About)\n",
    "plt.xlabel('Range')\n",
    "plt.ylabel('Frequency')\n",
    "plt.title('Hear About Chart')\n",
    "plt.show()\n",
    "print(\"The Best Media Outlets to Advertise the film series should be WEBSITE and TELEVISION\")"
   ]
  },
  {
   "cell_type": "code",
   "execution_count": null,
   "id": "8d965383-ad2d-4fa1-bf90-62724a6c0abc",
   "metadata": {},
   "outputs": [],
   "source": []
  },
  {
   "cell_type": "code",
   "execution_count": null,
   "id": "2f6fb2c7-a0cb-49a3-8515-f3c7e32818bb",
   "metadata": {},
   "outputs": [],
   "source": []
  },
  {
   "cell_type": "code",
   "execution_count": null,
   "id": "8472e2d7-b45c-4c4d-9a93-b8bfab61b420",
   "metadata": {},
   "outputs": [],
   "source": []
  },
  {
   "cell_type": "code",
   "execution_count": null,
   "id": "1eab257d-7bbf-4afb-a076-cb34be069380",
   "metadata": {},
   "outputs": [],
   "source": []
  }
 ],
 "metadata": {
  "kernelspec": {
   "display_name": "Python 3 (ipykernel)",
   "language": "python",
   "name": "python3"
  },
  "language_info": {
   "codemirror_mode": {
    "name": "ipython",
    "version": 3
   },
   "file_extension": ".py",
   "mimetype": "text/x-python",
   "name": "python",
   "nbconvert_exporter": "python",
   "pygments_lexer": "ipython3",
   "version": "3.11.7"
  }
 },
 "nbformat": 4,
 "nbformat_minor": 5
}
